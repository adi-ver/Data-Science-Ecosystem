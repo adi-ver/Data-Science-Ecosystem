{
 "cells": [
  {
   "cell_type": "markdown",
   "id": "33ab6459",
   "metadata": {},
   "source": [
    "# Data Science Tools and Ecosystem"
   ]
  },
  {
   "cell_type": "markdown",
   "id": "8add7cc8",
   "metadata": {},
   "source": [
    "## Introduction\n",
    "\n",
    "### In this notebook, Data Science Tools and Ecosystem are summarized."
   ]
  },
  {
   "cell_type": "markdown",
   "id": "0433e9a8",
   "metadata": {},
   "source": [
    "## Objectives:\n",
    "+ List popular languages for Data Science\n",
    "+ List comonly used libraries by data scientists\n",
    "+ List open source Data Science tools\n",
    "+ Perform common arithmetic operations\n",
    "+ Convert minutes into hours"
   ]
  },
  {
   "cell_type": "markdown",
   "id": "75145e4b",
   "metadata": {},
   "source": [
    "## Some of the popular languages that Data Scientists use are:\n",
    "1. Python\n",
    "2. R\n",
    "3. C++\n",
    "4. Java"
   ]
  },
  {
   "cell_type": "markdown",
   "id": "636f59c0",
   "metadata": {},
   "source": [
    "## Some of the commonly used libraries used by Data Scientists include:\n",
    "1. NumPy\n",
    "2. Pandas\n",
    "3. Matplotlib\n",
    "4. SciPy"
   ]
  },
  {
   "cell_type": "markdown",
   "id": "00f35055",
   "metadata": {},
   "source": [
    "|Data Science Tools|\n",
    "|------------------|\n",
    "|Jupyter Notebooks|\n",
    "|R Studio|\n",
    "|Jupyter Labs|\n",
    "|VS Code|"
   ]
  },
  {
   "cell_type": "markdown",
   "id": "a5c2c411",
   "metadata": {},
   "source": [
    "### Below are a few examples of evaluating arithmetic expressions in Python\n",
    "##### a=2 \n",
    "##### b=3\n",
    "##### print(a+b) #it gives '5' as response\n",
    "##### print(a**b)  #it gives 2^3 that is '8' as response"
   ]
  },
  {
   "cell_type": "code",
   "execution_count": 2,
   "id": "0476b06f",
   "metadata": {},
   "outputs": [
    {
     "data": {
      "text/plain": [
       "17"
      ]
     },
     "execution_count": 2,
     "metadata": {},
     "output_type": "execute_result"
    }
   ],
   "source": [
    "(3*4)+5\n",
    "#This a simple arithmetic expression to mutiply then add integers"
   ]
  },
  {
   "cell_type": "code",
   "execution_count": 3,
   "id": "bdb4c39d",
   "metadata": {},
   "outputs": [
    {
     "name": "stdout",
     "output_type": "stream",
     "text": [
      "3.3333333333333335 hrs\n"
     ]
    }
   ],
   "source": [
    "print(200/60,\"hrs\")\n",
    "#This will convert 200 minutes to hours by diving by 60"
   ]
  },
  {
   "cell_type": "markdown",
   "id": "4d890505",
   "metadata": {},
   "source": [
    "## Author\n",
    "Aditya Verma"
   ]
  }
 ],
 "metadata": {
  "kernelspec": {
   "display_name": "Python 3 (ipykernel)",
   "language": "python",
   "name": "python3"
  },
  "language_info": {
   "codemirror_mode": {
    "name": "ipython",
    "version": 3
   },
   "file_extension": ".py",
   "mimetype": "text/x-python",
   "name": "python",
   "nbconvert_exporter": "python",
   "pygments_lexer": "ipython3",
   "version": "3.10.9"
  }
 },
 "nbformat": 4,
 "nbformat_minor": 5
}
